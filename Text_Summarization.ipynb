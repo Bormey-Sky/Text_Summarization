{
  "nbformat": 4,
  "nbformat_minor": 0,
  "metadata": {
    "colab": {
      "provenance": [],
      "authorship_tag": "ABX9TyM9BwLWjIov1/C+NMdX0hlN",
      "include_colab_link": true
    },
    "kernelspec": {
      "name": "python3",
      "display_name": "Python 3"
    },
    "language_info": {
      "name": "python"
    }
  },
  "cells": [
    {
      "cell_type": "markdown",
      "metadata": {
        "id": "view-in-github",
        "colab_type": "text"
      },
      "source": [
        "<a href=\"https://colab.research.google.com/github/Bormey-Sky/Text_Summarization/blob/main/Text_Summarization.ipynb\" target=\"_parent\"><img src=\"https://colab.research.google.com/assets/colab-badge.svg\" alt=\"Open In Colab\"/></a>"
      ]
    },
    {
      "cell_type": "code",
      "source": [
        "# wrap output text into colab cell\n",
        "from IPython.display import HTML, display\n",
        "\n",
        "\n",
        "def set_css():\n",
        "  display(HTML('''\n",
        "    <style>\n",
        "      pre {\n",
        "        white-space: pre-wrap;\n",
        "      }\n",
        "    </style>\n",
        "  '''))\n",
        "\n",
        "get_ipython().events.register('pre_run_cell', set_css)\n"
      ],
      "metadata": {
        "id": "EVNbuRpHbDEs",
        "colab": {
          "base_uri": "https://localhost:8080/",
          "height": 17
        },
        "outputId": "28f0da53-0e1e-49d5-ecaa-cd00fcb0f79f"
      },
      "execution_count": null,
      "outputs": [
        {
          "output_type": "display_data",
          "data": {
            "text/plain": [
              "<IPython.core.display.HTML object>"
            ],
            "text/html": [
              "\n",
              "    <style>\n",
              "      pre {\n",
              "        white-space: pre-wrap;\n",
              "      }\n",
              "    </style>\n",
              "  "
            ]
          },
          "metadata": {}
        },
        {
          "output_type": "display_data",
          "data": {
            "text/plain": [
              "<IPython.core.display.HTML object>"
            ],
            "text/html": [
              "\n",
              "    <style>\n",
              "      pre {\n",
              "        white-space: pre-wrap;\n",
              "      }\n",
              "    </style>\n",
              "  "
            ]
          },
          "metadata": {}
        },
        {
          "output_type": "display_data",
          "data": {
            "text/plain": [
              "<IPython.core.display.HTML object>"
            ],
            "text/html": [
              "\n",
              "    <style>\n",
              "      pre {\n",
              "        white-space: pre-wrap;\n",
              "      }\n",
              "    </style>\n",
              "  "
            ]
          },
          "metadata": {}
        },
        {
          "output_type": "display_data",
          "data": {
            "text/plain": [
              "<IPython.core.display.HTML object>"
            ],
            "text/html": [
              "\n",
              "    <style>\n",
              "      pre {\n",
              "        white-space: pre-wrap;\n",
              "      }\n",
              "    </style>\n",
              "  "
            ]
          },
          "metadata": {}
        }
      ]
    },
    {
      "cell_type": "code",
      "execution_count": null,
      "metadata": {
        "id": "jq56xI3vmasL",
        "colab": {
          "base_uri": "https://localhost:8080/",
          "height": 338
        },
        "outputId": "c530c3e7-94b9-4336-f03f-043420215ebf"
      },
      "outputs": [
        {
          "output_type": "display_data",
          "data": {
            "text/plain": [
              "<IPython.core.display.HTML object>"
            ],
            "text/html": [
              "\n",
              "    <style>\n",
              "      pre {\n",
              "        white-space: pre-wrap;\n",
              "      }\n",
              "    </style>\n",
              "  "
            ]
          },
          "metadata": {}
        },
        {
          "output_type": "display_data",
          "data": {
            "text/plain": [
              "<IPython.core.display.HTML object>"
            ],
            "text/html": [
              "\n",
              "    <style>\n",
              "      pre {\n",
              "        white-space: pre-wrap;\n",
              "      }\n",
              "    </style>\n",
              "  "
            ]
          },
          "metadata": {}
        },
        {
          "output_type": "display_data",
          "data": {
            "text/plain": [
              "<IPython.core.display.HTML object>"
            ],
            "text/html": [
              "\n",
              "    <style>\n",
              "      pre {\n",
              "        white-space: pre-wrap;\n",
              "      }\n",
              "    </style>\n",
              "  "
            ]
          },
          "metadata": {}
        },
        {
          "output_type": "display_data",
          "data": {
            "text/plain": [
              "<IPython.core.display.HTML object>"
            ],
            "text/html": [
              "\n",
              "    <style>\n",
              "      pre {\n",
              "        white-space: pre-wrap;\n",
              "      }\n",
              "    </style>\n",
              "  "
            ]
          },
          "metadata": {}
        },
        {
          "output_type": "display_data",
          "data": {
            "text/plain": [
              "<IPython.core.display.HTML object>"
            ],
            "text/html": [
              "\n",
              "    <style>\n",
              "      pre {\n",
              "        white-space: pre-wrap;\n",
              "      }\n",
              "    </style>\n",
              "  "
            ]
          },
          "metadata": {}
        },
        {
          "output_type": "stream",
          "name": "stdout",
          "text": [
            "Looking in indexes: https://pypi.org/simple, https://us-python.pkg.dev/colab-wheels/public/simple/\n",
            "Requirement already satisfied: transformers in /usr/local/lib/python3.10/dist-packages (4.29.2)\n",
            "Requirement already satisfied: filelock in /usr/local/lib/python3.10/dist-packages (from transformers) (3.12.0)\n",
            "Requirement already satisfied: huggingface-hub<1.0,>=0.14.1 in /usr/local/lib/python3.10/dist-packages (from transformers) (0.14.1)\n",
            "Requirement already satisfied: numpy>=1.17 in /usr/local/lib/python3.10/dist-packages (from transformers) (1.22.4)\n",
            "Requirement already satisfied: packaging>=20.0 in /usr/local/lib/python3.10/dist-packages (from transformers) (23.1)\n",
            "Requirement already satisfied: pyyaml>=5.1 in /usr/local/lib/python3.10/dist-packages (from transformers) (6.0)\n",
            "Requirement already satisfied: regex!=2019.12.17 in /usr/local/lib/python3.10/dist-packages (from transformers) (2022.10.31)\n",
            "Requirement already satisfied: requests in /usr/local/lib/python3.10/dist-packages (from transformers) (2.27.1)\n",
            "Requirement already satisfied: tokenizers!=0.11.3,<0.14,>=0.11.1 in /usr/local/lib/python3.10/dist-packages (from transformers) (0.13.3)\n",
            "Requirement already satisfied: tqdm>=4.27 in /usr/local/lib/python3.10/dist-packages (from transformers) (4.65.0)\n",
            "Requirement already satisfied: fsspec in /usr/local/lib/python3.10/dist-packages (from huggingface-hub<1.0,>=0.14.1->transformers) (2023.4.0)\n",
            "Requirement already satisfied: typing-extensions>=3.7.4.3 in /usr/local/lib/python3.10/dist-packages (from huggingface-hub<1.0,>=0.14.1->transformers) (4.5.0)\n",
            "Requirement already satisfied: urllib3<1.27,>=1.21.1 in /usr/local/lib/python3.10/dist-packages (from requests->transformers) (1.26.15)\n",
            "Requirement already satisfied: certifi>=2017.4.17 in /usr/local/lib/python3.10/dist-packages (from requests->transformers) (2022.12.7)\n",
            "Requirement already satisfied: charset-normalizer~=2.0.0 in /usr/local/lib/python3.10/dist-packages (from requests->transformers) (2.0.12)\n",
            "Requirement already satisfied: idna<4,>=2.5 in /usr/local/lib/python3.10/dist-packages (from requests->transformers) (3.4)\n"
          ]
        }
      ],
      "source": [
        "!pip install transformers"
      ]
    },
    {
      "cell_type": "code",
      "source": [
        "import transformers"
      ],
      "metadata": {
        "id": "L7WxQcNA_t8v",
        "colab": {
          "base_uri": "https://localhost:8080/",
          "height": 17
        },
        "outputId": "586011d6-e763-4dc6-d346-2985cd64738b"
      },
      "execution_count": null,
      "outputs": [
        {
          "output_type": "display_data",
          "data": {
            "text/plain": [
              "<IPython.core.display.HTML object>"
            ],
            "text/html": [
              "\n",
              "    <style>\n",
              "      pre {\n",
              "        white-space: pre-wrap;\n",
              "      }\n",
              "    </style>\n",
              "  "
            ]
          },
          "metadata": {}
        },
        {
          "output_type": "display_data",
          "data": {
            "text/plain": [
              "<IPython.core.display.HTML object>"
            ],
            "text/html": [
              "\n",
              "    <style>\n",
              "      pre {\n",
              "        white-space: pre-wrap;\n",
              "      }\n",
              "    </style>\n",
              "  "
            ]
          },
          "metadata": {}
        },
        {
          "output_type": "display_data",
          "data": {
            "text/plain": [
              "<IPython.core.display.HTML object>"
            ],
            "text/html": [
              "\n",
              "    <style>\n",
              "      pre {\n",
              "        white-space: pre-wrap;\n",
              "      }\n",
              "    </style>\n",
              "  "
            ]
          },
          "metadata": {}
        },
        {
          "output_type": "display_data",
          "data": {
            "text/plain": [
              "<IPython.core.display.HTML object>"
            ],
            "text/html": [
              "\n",
              "    <style>\n",
              "      pre {\n",
              "        white-space: pre-wrap;\n",
              "      }\n",
              "    </style>\n",
              "  "
            ]
          },
          "metadata": {}
        },
        {
          "output_type": "display_data",
          "data": {
            "text/plain": [
              "<IPython.core.display.HTML object>"
            ],
            "text/html": [
              "\n",
              "    <style>\n",
              "      pre {\n",
              "        white-space: pre-wrap;\n",
              "      }\n",
              "    </style>\n",
              "  "
            ]
          },
          "metadata": {}
        }
      ]
    },
    {
      "cell_type": "markdown",
      "source": [
        "Text Summarization Pipeline using pre-trained model called bart-large-cnn\n",
        "- ARTICLE: promtp user to input text (max length = 1024 tokens (including word, punctuation, number))\n",
        "- max_length: 130 tokens, refers to the summarized text\n",
        "- min_length: 30 tokens, refers to the summarzed text"
      ],
      "metadata": {
        "id": "ohJ4MY8PHixp"
      }
    },
    {
      "cell_type": "code",
      "source": [
        "from transformers import pipeline \n",
        "\n",
        "# define and import model\n",
        "summarizer = pipeline(\"summarization\", model=\"facebook/bart-large-cnn\")\n",
        "# summarizer = pipeline(\"summarization\", model=\"facebook/bart-base\")\n",
        "\n",
        "# get article\n",
        "ARTICLE = input(\"Enter an article to summarize: \")\n",
        "\n",
        "# print(summarizer(ARTICLE, max_length=130, min_length=30, do_sample=False))\n",
        "print(ARTICLE)\n",
        "\n",
        "# print summarized text\n",
        "print('this is summarized text: ')\n",
        "\n",
        "# print(summary[0]['summary_text'])\n",
        "print(summarizer(ARTICLE, max_length=130, min_length=30, do_sample=False))"
      ],
      "metadata": {
        "id": "6jb8bzxu_6W2",
        "colab": {
          "base_uri": "https://localhost:8080/",
          "height": 839
        },
        "outputId": "85b80245-a9c5-48b4-ced2-807a5dbdd2ad"
      },
      "execution_count": null,
      "outputs": [
        {
          "output_type": "display_data",
          "data": {
            "text/plain": [
              "<IPython.core.display.HTML object>"
            ],
            "text/html": [
              "\n",
              "    <style>\n",
              "      pre {\n",
              "        white-space: pre-wrap;\n",
              "      }\n",
              "    </style>\n",
              "  "
            ]
          },
          "metadata": {}
        },
        {
          "output_type": "display_data",
          "data": {
            "text/plain": [
              "<IPython.core.display.HTML object>"
            ],
            "text/html": [
              "\n",
              "    <style>\n",
              "      pre {\n",
              "        white-space: pre-wrap;\n",
              "      }\n",
              "    </style>\n",
              "  "
            ]
          },
          "metadata": {}
        },
        {
          "output_type": "display_data",
          "data": {
            "text/plain": [
              "<IPython.core.display.HTML object>"
            ],
            "text/html": [
              "\n",
              "    <style>\n",
              "      pre {\n",
              "        white-space: pre-wrap;\n",
              "      }\n",
              "    </style>\n",
              "  "
            ]
          },
          "metadata": {}
        },
        {
          "output_type": "display_data",
          "data": {
            "text/plain": [
              "<IPython.core.display.HTML object>"
            ],
            "text/html": [
              "\n",
              "    <style>\n",
              "      pre {\n",
              "        white-space: pre-wrap;\n",
              "      }\n",
              "    </style>\n",
              "  "
            ]
          },
          "metadata": {}
        },
        {
          "output_type": "display_data",
          "data": {
            "text/plain": [
              "<IPython.core.display.HTML object>"
            ],
            "text/html": [
              "\n",
              "    <style>\n",
              "      pre {\n",
              "        white-space: pre-wrap;\n",
              "      }\n",
              "    </style>\n",
              "  "
            ]
          },
          "metadata": {}
        },
        {
          "output_type": "stream",
          "name": "stdout",
          "text": [
            "Enter an article to summarize: couple of summers ago, I went to the Guinness Storehouse in Dublin. I’d spent a lot of time in the city before, but I’d never visited the brewery. The tour is good. You can learn about how barrels are made, get your face printed in the head of a pint and, at the end, have a drink in a bar with a 360-degree view of the city. But what stayed with me most was something I saw there by accident.  One of the exhibit rooms was closed off, but only partially. Curiosity got the better of me, and behind the door, I found a room that was empty but for a table. On the table, there were a handful of editions of the Guinness Book of Records. I hadn’t thought about this book since I was in primary school. Back then, the Guinness Book of Records meant a big, brightly coloured, hardback volume containing 500-odd pages of pictures of people doing things like growing their hair very long or juggling knives. These were books that children gleefully unwrapped on Christmas Day and argued over with their siblings. As I flicked through the old editions – 1994, 2005, 2012 – I thought about the connection between Guinness the stout and Guinness the book for the first time, as well as a hundred questions I hadn’t thought to ask as an eight-year-old marvelling at the man with the stretchiest skin or the most needles inserted into his head.  Even now, in the age of YouTube and TikTok, when you can catapult yourself into fame, riches and recognition for feats of all kinds with nothing more complicated than your phone, the Guinness Book of Records continues, somewhat incredibly, to exist. The book, which since 1999 has gone by Guinness World Records, is still an overwhelming blizzard of wacky pictures and hard data.  But the company that publishes the book, also called Guinness World Records, is not the same as when I held my first annual, the green and silver 2002 edition. Sales of the book have declined in recent times, and the company has had to find new ways to make money – not all of which have met with the approval of the GWR old guard. When I spoke to Anna Nicholas, who worked as the head of PR for the book in the 80s and 90s, she lamented how things had changed: records are now more sensationalist, she said, to meet the demand of an audience that can see extraordinary things whenever they like on social media. “Guinness seemed to have had no issues with shamelessly and unapologetically selling out its devoted audience,” claimed one once-ardent fan in a 2020 blogpost.  It is strange to think of Guinness World Records – a business named after a beer company, which catalogues humanity’s most batshit endeavours – as the kind of entity that could sell out. At first glance, it seems like accusing Alton Towers or Pizza Express of selling out. But the deeper I delved into the world of record breaking, the more sense it made. In spite of its absurdity, or maybe because of it, record breaking is a reflection of our deepest interests and desires. Look deeply enough at a man attempting to break the record for most spoons on a human body, or the woman seeking to become the oldest salsa dancer in the world, and you can find yourself starting to believe that you’re peering into humanity’s soul.\n",
            "couple of summers ago, I went to the Guinness Storehouse in Dublin. I’d spent a lot of time in the city before, but I’d never visited the brewery. The tour is good. You can learn about how barrels are made, get your face printed in the head of a pint and, at the end, have a drink in a bar with a 360-degree view of the city. But what stayed with me most was something I saw there by accident.  One of the exhibit rooms was closed off, but only partially. Curiosity got the better of me, and behind the door, I found a room that was empty but for a table. On the table, there were a handful of editions of the Guinness Book of Records. I hadn’t thought about this book since I was in primary school. Back then, the Guinness Book of Records meant a big, brightly coloured, hardback volume containing 500-odd pages of pictures of people doing things like growing their hair very long or juggling knives. These were books that children gleefully unwrapped on Christmas Day and argued over with their siblings. As I flicked through the old editions – 1994, 2005, 2012 – I thought about the connection between Guinness the stout and Guinness the book for the first time, as well as a hundred questions I hadn’t thought to ask as an eight-year-old marvelling at the man with the stretchiest skin or the most needles inserted into his head.  Even now, in the age of YouTube and TikTok, when you can catapult yourself into fame, riches and recognition for feats of all kinds with nothing more complicated than your phone, the Guinness Book of Records continues, somewhat incredibly, to exist. The book, which since 1999 has gone by Guinness World Records, is still an overwhelming blizzard of wacky pictures and hard data.  But the company that publishes the book, also called Guinness World Records, is not the same as when I held my first annual, the green and silver 2002 edition. Sales of the book have declined in recent times, and the company has had to find new ways to make money – not all of which have met with the approval of the GWR old guard. When I spoke to Anna Nicholas, who worked as the head of PR for the book in the 80s and 90s, she lamented how things had changed: records are now more sensationalist, she said, to meet the demand of an audience that can see extraordinary things whenever they like on social media. “Guinness seemed to have had no issues with shamelessly and unapologetically selling out its devoted audience,” claimed one once-ardent fan in a 2020 blogpost.  It is strange to think of Guinness World Records – a business named after a beer company, which catalogues humanity’s most batshit endeavours – as the kind of entity that could sell out. At first glance, it seems like accusing Alton Towers or Pizza Express of selling out. But the deeper I delved into the world of record breaking, the more sense it made. In spite of its absurdity, or maybe because of it, record breaking is a reflection of our deepest interests and desires. Look deeply enough at a man attempting to break the record for most spoons on a human body, or the woman seeking to become the oldest salsa dancer in the world, and you can find yourself starting to believe that you’re peering into humanity’s soul.\n",
            "this is summarized text: \n",
            "[{'summary_text': 'The Guinness Book of Records continues, somewhat incredibly, to exist. The company that publishes the book, also called Guinness World Records, is not the same as when I held my first annual, the green and silver 2002 edition. Sales of the book have declined in recent times, and the company has had to find new ways to make money – not all of which have met with the GWR old guard.'}]\n"
          ]
        }
      ]
    },
    {
      "cell_type": "markdown",
      "source": [
        "Regular Expression:\n",
        "\n",
        "Uses re library to count the number of token, to make sure the article does not go over the limited token (1024 tokens)"
      ],
      "metadata": {
        "id": "Udi1NLo_Ioig"
      }
    },
    {
      "cell_type": "code",
      "source": [
        "import re\n",
        "\n",
        "# Create a regular expression to match tokens\n",
        "regex = re.compile(r\"\\w+\")\n",
        "\n",
        "# Match the tokens in the text\n",
        "tokens = regex.findall(ARTICLE)\n",
        "\n",
        "# Count the number of tokens\n",
        "num_tokens = len(tokens)\n",
        "\n",
        "# Limit the number of tokens to 1024\n",
        "tokens = tokens[:1024]\n",
        "\n",
        "# Print the tokens\n",
        "print(tokens)\n",
        "print(num_tokens)\n"
      ],
      "metadata": {
        "colab": {
          "base_uri": "https://localhost:8080/",
          "height": 606
        },
        "id": "cPEgPOj871xc",
        "outputId": "aa4411d7-f7e4-4436-d63d-a97b5cdf2f3c"
      },
      "execution_count": null,
      "outputs": [
        {
          "output_type": "display_data",
          "data": {
            "text/plain": [
              "<IPython.core.display.HTML object>"
            ],
            "text/html": [
              "\n",
              "    <style>\n",
              "      pre {\n",
              "        white-space: pre-wrap;\n",
              "      }\n",
              "    </style>\n",
              "  "
            ]
          },
          "metadata": {}
        },
        {
          "output_type": "display_data",
          "data": {
            "text/plain": [
              "<IPython.core.display.HTML object>"
            ],
            "text/html": [
              "\n",
              "    <style>\n",
              "      pre {\n",
              "        white-space: pre-wrap;\n",
              "      }\n",
              "    </style>\n",
              "  "
            ]
          },
          "metadata": {}
        },
        {
          "output_type": "display_data",
          "data": {
            "text/plain": [
              "<IPython.core.display.HTML object>"
            ],
            "text/html": [
              "\n",
              "    <style>\n",
              "      pre {\n",
              "        white-space: pre-wrap;\n",
              "      }\n",
              "    </style>\n",
              "  "
            ]
          },
          "metadata": {}
        },
        {
          "output_type": "display_data",
          "data": {
            "text/plain": [
              "<IPython.core.display.HTML object>"
            ],
            "text/html": [
              "\n",
              "    <style>\n",
              "      pre {\n",
              "        white-space: pre-wrap;\n",
              "      }\n",
              "    </style>\n",
              "  "
            ]
          },
          "metadata": {}
        },
        {
          "output_type": "display_data",
          "data": {
            "text/plain": [
              "<IPython.core.display.HTML object>"
            ],
            "text/html": [
              "\n",
              "    <style>\n",
              "      pre {\n",
              "        white-space: pre-wrap;\n",
              "      }\n",
              "    </style>\n",
              "  "
            ]
          },
          "metadata": {}
        },
        {
          "output_type": "stream",
          "name": "stdout",
          "text": [
            "['couple', 'of', 'summers', 'ago', 'I', 'went', 'to', 'the', 'Guinness', 'Storehouse', 'in', 'Dublin', 'I', 'd', 'spent', 'a', 'lot', 'of', 'time', 'in', 'the', 'city', 'before', 'but', 'I', 'd', 'never', 'visited', 'the', 'brewery', 'The', 'tour', 'is', 'good', 'You', 'can', 'learn', 'about', 'how', 'barrels', 'are', 'made', 'get', 'your', 'face', 'printed', 'in', 'the', 'head', 'of', 'a', 'pint', 'and', 'at', 'the', 'end', 'have', 'a', 'drink', 'in', 'a', 'bar', 'with', 'a', '360', 'degree', 'view', 'of', 'the', 'city', 'But', 'what', 'stayed', 'with', 'me', 'most', 'was', 'something', 'I', 'saw', 'there', 'by', 'accident', 'One', 'of', 'the', 'exhibit', 'rooms', 'was', 'closed', 'off', 'but', 'only', 'partially', 'Curiosity', 'got', 'the', 'better', 'of', 'me', 'and', 'behind', 'the', 'door', 'I', 'found', 'a', 'room', 'that', 'was', 'empty', 'but', 'for', 'a', 'table', 'On', 'the', 'table', 'there', 'were', 'a', 'handful', 'of', 'editions', 'of', 'the', 'Guinness', 'Book', 'of', 'Records', 'I', 'hadn', 't', 'thought', 'about', 'this', 'book', 'since', 'I', 'was', 'in', 'primary', 'school', 'Back', 'then', 'the', 'Guinness', 'Book', 'of', 'Records', 'meant', 'a', 'big', 'brightly', 'coloured', 'hardback', 'volume', 'containing', '500', 'odd', 'pages', 'of', 'pictures', 'of', 'people', 'doing', 'things', 'like', 'growing', 'their', 'hair', 'very', 'long', 'or', 'juggling', 'knives', 'These', 'were', 'books', 'that', 'children', 'gleefully', 'unwrapped', 'on', 'Christmas', 'Day', 'and', 'argued', 'over', 'with', 'their', 'siblings', 'As', 'I', 'flicked', 'through', 'the', 'old', 'editions', '1994', '2005', '2012', 'I', 'thought', 'about', 'the', 'connection', 'between', 'Guinness', 'the', 'stout', 'and', 'Guinness', 'the', 'book', 'for', 'the', 'first', 'time', 'as', 'well', 'as', 'a', 'hundred', 'questions', 'I', 'hadn', 't', 'thought', 'to', 'ask', 'as', 'an', 'eight', 'year', 'old', 'marvelling', 'at', 'the', 'man', 'with', 'the', 'stretchiest', 'skin', 'or', 'the', 'most', 'needles', 'inserted', 'into', 'his', 'head', 'Even', 'now', 'in', 'the', 'age', 'of', 'YouTube', 'and', 'TikTok', 'when', 'you', 'can', 'catapult', 'yourself', 'into', 'fame', 'riches', 'and', 'recognition', 'for', 'feats', 'of', 'all', 'kinds', 'with', 'nothing', 'more', 'complicated', 'than', 'your', 'phone', 'the', 'Guinness', 'Book', 'of', 'Records', 'continues', 'somewhat', 'incredibly', 'to', 'exist', 'The', 'book', 'which', 'since', '1999', 'has', 'gone', 'by', 'Guinness', 'World', 'Records', 'is', 'still', 'an', 'overwhelming', 'blizzard', 'of', 'wacky', 'pictures', 'and', 'hard', 'data', 'But', 'the', 'company', 'that', 'publishes', 'the', 'book', 'also', 'called', 'Guinness', 'World', 'Records', 'is', 'not', 'the', 'same', 'as', 'when', 'I', 'held', 'my', 'first', 'annual', 'the', 'green', 'and', 'silver', '2002', 'edition', 'Sales', 'of', 'the', 'book', 'have', 'declined', 'in', 'recent', 'times', 'and', 'the', 'company', 'has', 'had', 'to', 'find', 'new', 'ways', 'to', 'make', 'money', 'not', 'all', 'of', 'which', 'have', 'met', 'with', 'the', 'approval', 'of', 'the', 'GWR', 'old', 'guard', 'When', 'I', 'spoke', 'to', 'Anna', 'Nicholas', 'who', 'worked', 'as', 'the', 'head', 'of', 'PR', 'for', 'the', 'book', 'in', 'the', '80s', 'and', '90s', 'she', 'lamented', 'how', 'things', 'had', 'changed', 'records', 'are', 'now', 'more', 'sensationalist', 'she', 'said', 'to', 'meet', 'the', 'demand', 'of', 'an', 'audience', 'that', 'can', 'see', 'extraordinary', 'things', 'whenever', 'they', 'like', 'on', 'social', 'media', 'Guinness', 'seemed', 'to', 'have', 'had', 'no', 'issues', 'with', 'shamelessly', 'and', 'unapologetically', 'selling', 'out', 'its', 'devoted', 'audience', 'claimed', 'one', 'once', 'ardent', 'fan', 'in', 'a', '2020', 'blogpost', 'It', 'is', 'strange', 'to', 'think', 'of', 'Guinness', 'World', 'Records', 'a', 'business', 'named', 'after', 'a', 'beer', 'company', 'which', 'catalogues', 'humanity', 's', 'most', 'batshit', 'endeavours', 'as', 'the', 'kind', 'of', 'entity', 'that', 'could', 'sell', 'out', 'At', 'first', 'glance', 'it', 'seems', 'like', 'accusing', 'Alton', 'Towers', 'or', 'Pizza', 'Express', 'of', 'selling', 'out', 'But', 'the', 'deeper', 'I', 'delved', 'into', 'the', 'world', 'of', 'record', 'breaking', 'the', 'more', 'sense', 'it', 'made', 'In', 'spite', 'of', 'its', 'absurdity', 'or', 'maybe', 'because', 'of', 'it', 'record', 'breaking', 'is', 'a', 'reflection', 'of', 'our', 'deepest', 'interests', 'and', 'desires', 'Look', 'deeply', 'enough', 'at', 'a', 'man', 'attempting', 'to', 'break', 'the', 'record', 'for', 'most', 'spoons', 'on', 'a', 'human', 'body', 'or', 'the', 'woman', 'seeking', 'to', 'become', 'the', 'oldest', 'salsa', 'dancer', 'in', 'the', 'world', 'and', 'you', 'can', 'find', 'yourself', 'starting', 'to', 'believe', 'that', 'you', 're', 'peering', 'into', 'humanity', 's', 'soul']\n",
            "587\n"
          ]
        }
      ]
    },
    {
      "cell_type": "markdown",
      "source": [
        "Pickle library:\n",
        "\n",
        "Use for saving the model and pipeline in a pickle file for interating with an interface.\n",
        "\n",
        "How to load it can also be found below."
      ],
      "metadata": {
        "id": "K7D0JxiBI-BQ"
      }
    },
    {
      "cell_type": "code",
      "source": [
        "import pickle\n",
        "\n",
        "# Save the model\n",
        "with open('model.pkl', 'wb') as f:\n",
        "    pickle.dump(summarizer, f)\n"
      ],
      "metadata": {
        "colab": {
          "base_uri": "https://localhost:8080/",
          "height": 17
        },
        "id": "Scn-ayJgzBrM",
        "outputId": "4a75d976-d547-4a91-eca1-41bf6161bc56"
      },
      "execution_count": null,
      "outputs": [
        {
          "output_type": "display_data",
          "data": {
            "text/plain": [
              "<IPython.core.display.HTML object>"
            ],
            "text/html": [
              "\n",
              "    <style>\n",
              "      pre {\n",
              "        white-space: pre-wrap;\n",
              "      }\n",
              "    </style>\n",
              "  "
            ]
          },
          "metadata": {}
        },
        {
          "output_type": "display_data",
          "data": {
            "text/plain": [
              "<IPython.core.display.HTML object>"
            ],
            "text/html": [
              "\n",
              "    <style>\n",
              "      pre {\n",
              "        white-space: pre-wrap;\n",
              "      }\n",
              "    </style>\n",
              "  "
            ]
          },
          "metadata": {}
        },
        {
          "output_type": "display_data",
          "data": {
            "text/plain": [
              "<IPython.core.display.HTML object>"
            ],
            "text/html": [
              "\n",
              "    <style>\n",
              "      pre {\n",
              "        white-space: pre-wrap;\n",
              "      }\n",
              "    </style>\n",
              "  "
            ]
          },
          "metadata": {}
        },
        {
          "output_type": "display_data",
          "data": {
            "text/plain": [
              "<IPython.core.display.HTML object>"
            ],
            "text/html": [
              "\n",
              "    <style>\n",
              "      pre {\n",
              "        white-space: pre-wrap;\n",
              "      }\n",
              "    </style>\n",
              "  "
            ]
          },
          "metadata": {}
        },
        {
          "output_type": "display_data",
          "data": {
            "text/plain": [
              "<IPython.core.display.HTML object>"
            ],
            "text/html": [
              "\n",
              "    <style>\n",
              "      pre {\n",
              "        white-space: pre-wrap;\n",
              "      }\n",
              "    </style>\n",
              "  "
            ]
          },
          "metadata": {}
        }
      ]
    },
    {
      "cell_type": "code",
      "source": [
        "import pickle\n",
        "\n",
        "# Load the model\n",
        "with open('model.pkl', 'rb') as f:\n",
        "    model = pickle.load(f)\n"
      ],
      "metadata": {
        "id": "7bEk7UH-8FMD"
      },
      "execution_count": null,
      "outputs": []
    }
  ]
}